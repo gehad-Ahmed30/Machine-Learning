{
 "cells": [
  {
   "cell_type": "markdown",
   "metadata": {},
   "source": [
    "### One-Hot Encoding Explanation\n",
    "**One-Hot Encoding** is a technique for converting categorical data into a numerical format that can be used in mathematical models and machine learning. This is done by creating a separate variable for each category in the original column, then assigning a value of **1** to the category that applies to the sample and **0** to the rest.\n",
    "\n",
    "#### Example:\n",
    "Suppose we have a column named **\"City\"** containing the following values:\n",
    "🚩 **[\"Cairo\", \"Alex\", \"Giza\"]**  \n",
    "Applying **One-Hot Encoding**, it will be transformed into:\n",
    "\n",
    "| City  | Cairo | Alex | Giza |\n",
    "|-------|------|------|------|\n",
    "| Cairo |  1   |  0   |  0   |\n",
    "| Alex  |  0   |  1   |  0   |\n",
    "| Giza  |  0   |  0   |  1   |\n",
    "\n",
    "### When to Use One-Hot Encoding?\n",
    "- When dealing with **unordered categorical data**, such as city names, car colors, device types, etc.\n",
    "- When there is **no natural order** or **mathematical relationship** between categorical values.\n",
    "- When **improving model performance** and reducing the impact of categorical values on mathematical relationships.\n"
   ]
  },
  {
   "cell_type": "markdown",
   "metadata": {},
   "source": [
    "### When to Use Each Type?\n",
    "✅ **One-Hot Encoding** → When categories are **unordered** or the number of categories is **relatively small**.  \n",
    "✅ **Zero-One Encoding** → When categories are **naturally ordered**, such as (**Small, Medium, Large**) or (**Beginner, Intermediate, Expert**).  \n"
   ]
  },
  {
   "cell_type": "markdown",
   "metadata": {},
   "source": [
    "### Difference Between One-Hot Encoding and Zero-One Encoding\n",
    "\n",
    "| Comparison        | One-Hot Encoding                     | Zero-One Encoding                  |\n",
    "|------------------|---------------------------------|---------------------------------|\n",
    "| **Method**       | Converts each category into a separate column | Assigns a unique number to each category |\n",
    "| **Suitable for** | Unordered categorical data       | Ordered categorical data        |\n",
    "| **Number of Added Columns** | Increases with the number of categories | Only one column |\n",
    "| **Usage Risks**  | Can cause high dimensionality (**Curse of Dimensionality**) | May misinterpret relationships mathematically |\n"
   ]
  },
  {
   "cell_type": "markdown",
   "metadata": {},
   "source": [
    "### 💡 Summary:\n",
    "\n",
    "- If the number of categories is **moderate** → **One-Hot Encoding** is suitable.  \n",
    "- If the number of categories is **very large** → Use **Target, Frequency, or Hash Encoding**.  \n",
    "- If you are working with **complex textual data** → **Embedding Encoding** is the best option.  \n"
   ]
  }
 ],
 "metadata": {
  "language_info": {
   "name": "python"
  }
 },
 "nbformat": 4,
 "nbformat_minor": 2
}
