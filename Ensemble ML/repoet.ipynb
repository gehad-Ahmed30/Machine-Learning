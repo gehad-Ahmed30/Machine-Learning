{
 "cells": [
  {
   "cell_type": "markdown",
   "metadata": {},
   "source": [
    "# 📌 When to Use Bagging, Boosting, and Stacking?\n",
    "\n",
    "Each **Ensemble Learning** technique is useful in different scenarios:\n",
    "\n",
    "| Technique  | Best for Underfitting? | Best for Overfitting? | Key Focus |\n",
    "|------------|----------------------|----------------------|-----------|\n",
    "| **Bagging** | ✅ Yes | ❌ No | Reduces variance (helps with overfitting) |\n",
    "| **Boosting** | ❌ No | ✅ Yes | Reduces bias (helps with underfitting) |\n",
    "| **Stacking** | ✅ Yes | ✅ Yes | Combines multiple models for improved generalization |\n",
    "\n",
    "### 🔥 Key Takeaways:\n",
    "- **Use Bagging** when your model is **overfitting** and has **high variance** (e.g., Decision Trees).  \n",
    "- **Use Boosting** when your model is **underfitting** and has **high bias** (e.g., Logistic Regression).  \n",
    "- **Use Stacking** when you want to **combine multiple strong models** for better performance.  \n",
    "\n",
    "🚀 Choosing the right technique depends on your dataset, model performance, and specific use case!\n"
   ]
  }
 ],
 "metadata": {
  "language_info": {
   "name": "python"
  }
 },
 "nbformat": 4,
 "nbformat_minor": 2
}
